{
 "cells": [
  {
   "cell_type": "code",
   "execution_count": 1,
   "metadata": {},
   "outputs": [
    {
     "name": "stderr",
     "output_type": "stream",
     "text": [
      "2023-02-21 07:36:30.517707: I tensorflow/core/platform/cpu_feature_guard.cc:193] This TensorFlow binary is optimized with oneAPI Deep Neural Network Library (oneDNN) to use the following CPU instructions in performance-critical operations:  AVX2 FMA\n",
      "To enable them in other operations, rebuild TensorFlow with the appropriate compiler flags.\n",
      "2023-02-21 07:36:32.395171: W tensorflow/compiler/xla/stream_executor/platform/default/dso_loader.cc:64] Could not load dynamic library 'libnvinfer.so.7'; dlerror: libnvinfer.so.7: cannot open shared object file: No such file or directory\n",
      "2023-02-21 07:36:32.395576: W tensorflow/compiler/xla/stream_executor/platform/default/dso_loader.cc:64] Could not load dynamic library 'libnvinfer_plugin.so.7'; dlerror: libnvinfer_plugin.so.7: cannot open shared object file: No such file or directory\n",
      "2023-02-21 07:36:32.395590: W tensorflow/compiler/tf2tensorrt/utils/py_utils.cc:38] TF-TRT Warning: Cannot dlopen some TensorRT libraries. If you would like to use Nvidia GPU with TensorRT, please make sure the missing libraries mentioned above are installed properly.\n"
     ]
    }
   ],
   "source": [
    "import pandas as pd\n",
    "import matplotlib.pyplot as plt\n",
    "import numpy as np\n",
    "import seaborn as sns\n",
    "import pathlib\n",
    "\n",
    "from collections import Counter\n",
    "from sklearn.preprocessing import StandardScaler\n",
    "\n",
    "import keras.backend as K\n",
    "import cv2\n",
    "import tensorflow as tf\n",
    "from tensorflow import keras\n",
    "from keras.models import Sequential\n",
    "from keras.layers import Conv2D, MaxPooling2D, Dense, Dropout, Flatten\n",
    "from tensorflow.keras.optimizers import Adam\n",
    "\n",
    "from tensorflow.keras.utils import load_img\n",
    "from tensorflow.keras.utils import img_to_array\n",
    "from keras.preprocessing.image import ImageDataGenerator\n",
    "from tensorflow.keras.callbacks import ReduceLROnPlateau,ModelCheckpoint,EarlyStopping\n",
    "\n"
   ]
  },
  {
   "cell_type": "code",
   "execution_count": 2,
   "metadata": {},
   "outputs": [
    {
     "name": "stdout",
     "output_type": "stream",
     "text": [
      "/home/khoi/Documents/Ai project/Emotion_Detection_CNN/data3/train\n",
      "/home/khoi/Documents/Ai project/Emotion_Detection_CNN/data3/test\n"
     ]
    }
   ],
   "source": [
    "train_data_dir = pathlib.Path(\"/home/khoi/Documents/Ai project/Emotion_Detection_CNN/data3/train\")\n",
    "print(train_data_dir)\n",
    "\n",
    "test_data_dir = pathlib.Path(\"/home/khoi/Documents/Ai project/Emotion_Detection_CNN/data3/test\")\n",
    "print(test_data_dir)\n",
    "\n",
    "# Image size\n",
    "\n",
    "IMAGE_SIZE = (48,48)\n",
    "IMAGE_SHAPE = IMAGE_SIZE + (3,)\n",
    "\n",
    "BS = 16\n",
    "EPOCHS = 100\n",
    "ADAM_LEARNING_RATE = 0.0001\n",
    "PATIENCE =10\n"
   ]
  },
  {
   "cell_type": "code",
   "execution_count": 3,
   "metadata": {},
   "outputs": [
    {
     "name": "stdout",
     "output_type": "stream",
     "text": [
      "Found 600 images belonging to 3 classes.\n",
      "Found 180 images belonging to 3 classes.\n"
     ]
    }
   ],
   "source": [
    "# Initialize image data generator with rescaling\n",
    "train_data_gen = ImageDataGenerator(rescale=1./255)\n",
    "validation_data_gen = ImageDataGenerator(rescale=1./255)\n",
    "\n",
    "# Preprocess all test images\n",
    "train_generator = train_data_gen.flow_from_directory(\n",
    "        '/home/khoi/Documents/Ai project/Emotion_Detection_CNN/data3/train',\n",
    "        target_size=(48, 48),\n",
    "        batch_size=64,\n",
    "        color_mode=\"grayscale\",\n",
    "        class_mode='categorical')\n",
    "\n",
    "# Preprocess all train images\n",
    "validation_generator = validation_data_gen.flow_from_directory(\n",
    "        '/home/khoi/Documents/Ai project/Emotion_Detection_CNN/data3/test',\n",
    "        target_size=(48, 48),\n",
    "        batch_size=64,\n",
    "        color_mode=\"grayscale\",\n",
    "        class_mode='categorical')\n",
    "\n"
   ]
  },
  {
   "cell_type": "code",
   "execution_count": 7,
   "metadata": {},
   "outputs": [
    {
     "name": "stdout",
     "output_type": "stream",
     "text": [
      "Model: \"sequential_1\"\n",
      "_________________________________________________________________\n",
      " Layer (type)                Output Shape              Param #   \n",
      "=================================================================\n",
      " conv2d_4 (Conv2D)           (None, 46, 46, 32)        320       \n",
      "                                                                 \n",
      " conv2d_5 (Conv2D)           (None, 44, 44, 64)        18496     \n",
      "                                                                 \n",
      " max_pooling2d_3 (MaxPooling  (None, 22, 22, 64)       0         \n",
      " 2D)                                                             \n",
      "                                                                 \n",
      " dropout_3 (Dropout)         (None, 22, 22, 64)        0         \n",
      "                                                                 \n",
      " conv2d_6 (Conv2D)           (None, 20, 20, 128)       73856     \n",
      "                                                                 \n",
      " max_pooling2d_4 (MaxPooling  (None, 10, 10, 128)      0         \n",
      " 2D)                                                             \n",
      "                                                                 \n",
      " conv2d_7 (Conv2D)           (None, 8, 8, 128)         147584    \n",
      "                                                                 \n",
      " max_pooling2d_5 (MaxPooling  (None, 4, 4, 128)        0         \n",
      " 2D)                                                             \n",
      "                                                                 \n",
      " dropout_4 (Dropout)         (None, 4, 4, 128)         0         \n",
      "                                                                 \n",
      " flatten_1 (Flatten)         (None, 2048)              0         \n",
      "                                                                 \n",
      " dense_2 (Dense)             (None, 1024)              2098176   \n",
      "                                                                 \n",
      " dropout_5 (Dropout)         (None, 1024)              0         \n",
      "                                                                 \n",
      " dense_3 (Dense)             (None, 3)                 3075      \n",
      "                                                                 \n",
      "=================================================================\n",
      "Total params: 2,341,507\n",
      "Trainable params: 2,341,507\n",
      "Non-trainable params: 0\n",
      "_________________________________________________________________\n"
     ]
    }
   ],
   "source": [
    "# create model structure\n",
    "emotion_model = Sequential([\n",
    "    Conv2D(32, kernel_size=(3, 3), activation='relu', input_shape=(48, 48, 1)),\n",
    "    Conv2D(64, kernel_size=(3, 3), activation='relu'),\n",
    "    MaxPooling2D(pool_size=(2, 2)),\n",
    "    Dropout(0.25),\n",
    "\n",
    "    Conv2D(128, kernel_size=(3, 3), activation='relu'),\n",
    "    MaxPooling2D(pool_size=(2, 2)),\n",
    "    Conv2D(128, kernel_size=(3, 3), activation='relu'),\n",
    "    MaxPooling2D(pool_size=(2, 2)),\n",
    "    Dropout(0.25),\n",
    "\n",
    "    Flatten(),\n",
    "    Dense(1024, activation='relu'),\n",
    "    Dropout(0.5),\n",
    "    Dense(3, activation='softmax')\n",
    "])\n",
    "emotion_model.compile(optimizer='adam',\n",
    "              loss=\"categorical_crossentropy\",\n",
    "              metrics=['accuracy'])\n",
    "\n",
    "emotion_model.summary()"
   ]
  },
  {
   "cell_type": "code",
   "execution_count": 8,
   "metadata": {},
   "outputs": [
    {
     "name": "stderr",
     "output_type": "stream",
     "text": [
      "WARNING:absl:`lr` is deprecated, please use `learning_rate` instead, or use the legacy optimizer, e.g.,tf.keras.optimizers.legacy.Adam.\n"
     ]
    }
   ],
   "source": [
    "reduce_learningrate = ReduceLROnPlateau(monitor='val_loss',\n",
    "                              factor=0.2,\n",
    "                              patience=3,\n",
    "                              verbose=1,\n",
    "                              min_delta=0.0001)\n",
    "\n",
    "callbacks_list = [reduce_learningrate]\n",
    "\n",
    "\n",
    "emotion_model.compile(loss='categorical_crossentropy',\n",
    "              optimizer = Adam(lr=0.001),\n",
    "              metrics=['accuracy'])"
   ]
  },
  {
   "cell_type": "code",
   "execution_count": 9,
   "metadata": {},
   "outputs": [
    {
     "name": "stdout",
     "output_type": "stream",
     "text": [
      "Epoch 1/50\n"
     ]
    },
    {
     "name": "stderr",
     "output_type": "stream",
     "text": [
      "/tmp/ipykernel_45647/4152142760.py:1: UserWarning: `Model.fit_generator` is deprecated and will be removed in a future version. Please use `Model.fit`, which supports generators.\n",
      "  emotion_model_info = emotion_model.fit_generator(generator=train_generator,\n"
     ]
    },
    {
     "name": "stdout",
     "output_type": "stream",
     "text": [
      "1/9 [==>...........................] - ETA: 10s - loss: 1.0996 - accuracy: 0.2083"
     ]
    },
    {
     "name": "stderr",
     "output_type": "stream",
     "text": [
      "2023-02-21 07:39:47.733082: W tensorflow/tsl/framework/cpu_allocator_impl.cc:82] Allocation of 21196800 exceeds 10% of free system memory.\n",
      "2023-02-21 07:39:47.733963: W tensorflow/tsl/framework/cpu_allocator_impl.cc:82] Allocation of 21196800 exceeds 10% of free system memory.\n"
     ]
    },
    {
     "name": "stdout",
     "output_type": "stream",
     "text": [
      "9/9 [==============================] - 5s 468ms/step - loss: 1.1029 - accuracy: 0.3694 - val_loss: 1.0943 - val_accuracy: 0.3828 - lr: 0.0010\n",
      "Epoch 2/50\n",
      "9/9 [==============================] - 3s 367ms/step - loss: 1.1032 - accuracy: 0.3209 - val_loss: 1.0974 - val_accuracy: 0.3984 - lr: 0.0010\n",
      "Epoch 3/50\n",
      "9/9 [==============================] - 4s 406ms/step - loss: 1.0975 - accuracy: 0.3451 - val_loss: 1.0972 - val_accuracy: 0.2969 - lr: 0.0010\n",
      "Epoch 4/50\n",
      "9/9 [==============================] - ETA: 0s - loss: 1.1001 - accuracy: 0.3316\n",
      "Epoch 4: ReduceLROnPlateau reducing learning rate to 0.00020000000949949026.\n",
      "9/9 [==============================] - 4s 392ms/step - loss: 1.1001 - accuracy: 0.3316 - val_loss: 1.0979 - val_accuracy: 0.3359 - lr: 0.0010\n",
      "Epoch 5/50\n",
      "9/9 [==============================] - 3s 352ms/step - loss: 1.0990 - accuracy: 0.3321 - val_loss: 1.1005 - val_accuracy: 0.3359 - lr: 2.0000e-04\n",
      "Epoch 6/50\n",
      "9/9 [==============================] - 3s 328ms/step - loss: 1.0969 - accuracy: 0.3594 - val_loss: 1.0956 - val_accuracy: 0.3516 - lr: 2.0000e-04\n",
      "Epoch 7/50\n",
      "9/9 [==============================] - ETA: 0s - loss: 1.0965 - accuracy: 0.3433\n",
      "Epoch 7: ReduceLROnPlateau reducing learning rate to 4.0000001899898055e-05.\n",
      "9/9 [==============================] - 3s 327ms/step - loss: 1.0965 - accuracy: 0.3433 - val_loss: 1.1016 - val_accuracy: 0.3125 - lr: 2.0000e-04\n",
      "Epoch 8/50\n",
      "9/9 [==============================] - 3s 337ms/step - loss: 1.0959 - accuracy: 0.3472 - val_loss: 1.0936 - val_accuracy: 0.3750 - lr: 4.0000e-05\n",
      "Epoch 9/50\n",
      "9/9 [==============================] - 3s 321ms/step - loss: 1.0956 - accuracy: 0.3582 - val_loss: 1.0958 - val_accuracy: 0.3672 - lr: 4.0000e-05\n",
      "Epoch 10/50\n",
      "9/9 [==============================] - 3s 300ms/step - loss: 1.0943 - accuracy: 0.3619 - val_loss: 1.0954 - val_accuracy: 0.3750 - lr: 4.0000e-05\n",
      "Epoch 11/50\n",
      "9/9 [==============================] - 3s 299ms/step - loss: 1.0940 - accuracy: 0.3601 - val_loss: 1.0921 - val_accuracy: 0.4141 - lr: 4.0000e-05\n",
      "Epoch 12/50\n",
      "9/9 [==============================] - 3s 313ms/step - loss: 1.0934 - accuracy: 0.3843 - val_loss: 1.0948 - val_accuracy: 0.3359 - lr: 4.0000e-05\n",
      "Epoch 13/50\n",
      "9/9 [==============================] - 3s 292ms/step - loss: 1.0923 - accuracy: 0.4067 - val_loss: 1.0937 - val_accuracy: 0.3281 - lr: 4.0000e-05\n",
      "Epoch 14/50\n",
      "9/9 [==============================] - ETA: 0s - loss: 1.0917 - accuracy: 0.4011\n",
      "Epoch 14: ReduceLROnPlateau reducing learning rate to 8.000000525498762e-06.\n",
      "9/9 [==============================] - 3s 297ms/step - loss: 1.0917 - accuracy: 0.4011 - val_loss: 1.0923 - val_accuracy: 0.3594 - lr: 4.0000e-05\n",
      "Epoch 15/50\n",
      "9/9 [==============================] - 3s 308ms/step - loss: 1.0916 - accuracy: 0.4179 - val_loss: 1.0945 - val_accuracy: 0.3359 - lr: 8.0000e-06\n",
      "Epoch 16/50\n",
      "9/9 [==============================] - 3s 286ms/step - loss: 1.0916 - accuracy: 0.4160 - val_loss: 1.0930 - val_accuracy: 0.3438 - lr: 8.0000e-06\n",
      "Epoch 17/50\n",
      "9/9 [==============================] - 3s 287ms/step - loss: 1.0893 - accuracy: 0.4067 - val_loss: 1.0912 - val_accuracy: 0.3672 - lr: 8.0000e-06\n",
      "Epoch 18/50\n",
      "9/9 [==============================] - 3s 286ms/step - loss: 1.0896 - accuracy: 0.4086 - val_loss: 1.0928 - val_accuracy: 0.3359 - lr: 8.0000e-06\n",
      "Epoch 19/50\n",
      "9/9 [==============================] - 3s 291ms/step - loss: 1.0907 - accuracy: 0.4235 - val_loss: 1.0931 - val_accuracy: 0.3125 - lr: 8.0000e-06\n",
      "Epoch 20/50\n",
      "9/9 [==============================] - 3s 306ms/step - loss: 1.0908 - accuracy: 0.3906 - val_loss: 1.0893 - val_accuracy: 0.3594 - lr: 8.0000e-06\n",
      "Epoch 21/50\n",
      "9/9 [==============================] - 3s 286ms/step - loss: 1.0900 - accuracy: 0.4328 - val_loss: 1.0928 - val_accuracy: 0.3594 - lr: 8.0000e-06\n",
      "Epoch 22/50\n",
      "9/9 [==============================] - 3s 305ms/step - loss: 1.0903 - accuracy: 0.3889 - val_loss: 1.0928 - val_accuracy: 0.3516 - lr: 8.0000e-06\n",
      "Epoch 23/50\n",
      "9/9 [==============================] - 3s 289ms/step - loss: 1.0895 - accuracy: 0.4384 - val_loss: 1.0889 - val_accuracy: 0.3906 - lr: 8.0000e-06\n",
      "Epoch 24/50\n",
      "9/9 [==============================] - 3s 292ms/step - loss: 1.0896 - accuracy: 0.4403 - val_loss: 1.0935 - val_accuracy: 0.3281 - lr: 8.0000e-06\n",
      "Epoch 25/50\n",
      "9/9 [==============================] - 3s 293ms/step - loss: 1.0898 - accuracy: 0.4478 - val_loss: 1.0926 - val_accuracy: 0.3359 - lr: 8.0000e-06\n",
      "Epoch 26/50\n",
      "9/9 [==============================] - 3s 286ms/step - loss: 1.0873 - accuracy: 0.4552 - val_loss: 1.0883 - val_accuracy: 0.3984 - lr: 8.0000e-06\n",
      "Epoch 27/50\n",
      "9/9 [==============================] - 3s 287ms/step - loss: 1.0871 - accuracy: 0.4347 - val_loss: 1.0930 - val_accuracy: 0.3516 - lr: 8.0000e-06\n",
      "Epoch 28/50\n",
      "9/9 [==============================] - 3s 284ms/step - loss: 1.0864 - accuracy: 0.4496 - val_loss: 1.0886 - val_accuracy: 0.3750 - lr: 8.0000e-06\n",
      "Epoch 29/50\n",
      "9/9 [==============================] - ETA: 0s - loss: 1.0891 - accuracy: 0.4160\n",
      "Epoch 29: ReduceLROnPlateau reducing learning rate to 1.6000001778593287e-06.\n",
      "9/9 [==============================] - 3s 291ms/step - loss: 1.0891 - accuracy: 0.4160 - val_loss: 1.0909 - val_accuracy: 0.3203 - lr: 8.0000e-06\n",
      "Epoch 30/50\n",
      "9/9 [==============================] - 3s 286ms/step - loss: 1.0887 - accuracy: 0.4123 - val_loss: 1.0910 - val_accuracy: 0.3516 - lr: 1.6000e-06\n",
      "Epoch 31/50\n",
      "9/9 [==============================] - 3s 284ms/step - loss: 1.0848 - accuracy: 0.4496 - val_loss: 1.0928 - val_accuracy: 0.3594 - lr: 1.6000e-06\n",
      "Epoch 32/50\n",
      "9/9 [==============================] - ETA: 0s - loss: 1.0874 - accuracy: 0.4310\n",
      "Epoch 32: ReduceLROnPlateau reducing learning rate to 3.200000264769187e-07.\n",
      "9/9 [==============================] - 3s 286ms/step - loss: 1.0874 - accuracy: 0.4310 - val_loss: 1.0908 - val_accuracy: 0.3438 - lr: 1.6000e-06\n",
      "Epoch 33/50\n",
      "9/9 [==============================] - 3s 290ms/step - loss: 1.0874 - accuracy: 0.4403 - val_loss: 1.0912 - val_accuracy: 0.3672 - lr: 3.2000e-07\n",
      "Epoch 34/50\n",
      "9/9 [==============================] - 3s 283ms/step - loss: 1.0883 - accuracy: 0.4328 - val_loss: 1.0900 - val_accuracy: 0.3672 - lr: 3.2000e-07\n",
      "Epoch 35/50\n",
      "9/9 [==============================] - ETA: 0s - loss: 1.0873 - accuracy: 0.4216\n",
      "Epoch 35: ReduceLROnPlateau reducing learning rate to 6.400000529538374e-08.\n",
      "9/9 [==============================] - 3s 285ms/step - loss: 1.0873 - accuracy: 0.4216 - val_loss: 1.0923 - val_accuracy: 0.3672 - lr: 3.2000e-07\n",
      "Epoch 36/50\n",
      "9/9 [==============================] - 3s 286ms/step - loss: 1.0871 - accuracy: 0.4496 - val_loss: 1.0934 - val_accuracy: 0.3438 - lr: 6.4000e-08\n",
      "Epoch 37/50\n",
      "9/9 [==============================] - 3s 373ms/step - loss: 1.0869 - accuracy: 0.4271 - val_loss: 1.0892 - val_accuracy: 0.3672 - lr: 6.4000e-08\n",
      "Epoch 38/50\n",
      "9/9 [==============================] - 3s 321ms/step - loss: 1.0891 - accuracy: 0.4328 - val_loss: 1.0869 - val_accuracy: 0.3906 - lr: 6.4000e-08\n",
      "Epoch 39/50\n",
      "9/9 [==============================] - 3s 356ms/step - loss: 1.0876 - accuracy: 0.4366 - val_loss: 1.0879 - val_accuracy: 0.4062 - lr: 6.4000e-08\n",
      "Epoch 40/50\n",
      "9/9 [==============================] - 4s 387ms/step - loss: 1.0892 - accuracy: 0.4340 - val_loss: 1.0893 - val_accuracy: 0.4062 - lr: 6.4000e-08\n",
      "Epoch 41/50\n",
      "9/9 [==============================] - ETA: 0s - loss: 1.0880 - accuracy: 0.4323\n",
      "Epoch 41: ReduceLROnPlateau reducing learning rate to 1.2800001059076749e-08.\n",
      "9/9 [==============================] - 3s 361ms/step - loss: 1.0880 - accuracy: 0.4323 - val_loss: 1.0882 - val_accuracy: 0.3906 - lr: 6.4000e-08\n",
      "Epoch 42/50\n",
      "9/9 [==============================] - 3s 340ms/step - loss: 1.0868 - accuracy: 0.4410 - val_loss: 1.0889 - val_accuracy: 0.3984 - lr: 1.2800e-08\n",
      "Epoch 43/50\n",
      "9/9 [==============================] - 3s 326ms/step - loss: 1.0900 - accuracy: 0.4403 - val_loss: 1.0942 - val_accuracy: 0.3047 - lr: 1.2800e-08\n",
      "Epoch 44/50\n",
      "9/9 [==============================] - ETA: 0s - loss: 1.0889 - accuracy: 0.4328\n",
      "Epoch 44: ReduceLROnPlateau reducing learning rate to 2.5600002118153498e-09.\n",
      "9/9 [==============================] - 3s 331ms/step - loss: 1.0889 - accuracy: 0.4328 - val_loss: 1.0897 - val_accuracy: 0.3750 - lr: 1.2800e-08\n",
      "Epoch 45/50\n",
      "9/9 [==============================] - 3s 305ms/step - loss: 1.0863 - accuracy: 0.4496 - val_loss: 1.0958 - val_accuracy: 0.3047 - lr: 2.5600e-09\n",
      "Epoch 46/50\n",
      "9/9 [==============================] - 3s 311ms/step - loss: 1.0867 - accuracy: 0.4739 - val_loss: 1.0907 - val_accuracy: 0.3594 - lr: 2.5600e-09\n",
      "Epoch 47/50\n",
      "9/9 [==============================] - ETA: 0s - loss: 1.0872 - accuracy: 0.4683\n",
      "Epoch 47: ReduceLROnPlateau reducing learning rate to 5.1200004236307e-10.\n",
      "9/9 [==============================] - 3s 332ms/step - loss: 1.0872 - accuracy: 0.4683 - val_loss: 1.0925 - val_accuracy: 0.3516 - lr: 2.5600e-09\n",
      "Epoch 48/50\n",
      "9/9 [==============================] - 3s 321ms/step - loss: 1.0875 - accuracy: 0.4478 - val_loss: 1.0890 - val_accuracy: 0.3828 - lr: 5.1200e-10\n",
      "Epoch 49/50\n",
      "9/9 [==============================] - 3s 307ms/step - loss: 1.0864 - accuracy: 0.4757 - val_loss: 1.0887 - val_accuracy: 0.3750 - lr: 5.1200e-10\n",
      "Epoch 50/50\n",
      "9/9 [==============================] - ETA: 0s - loss: 1.0874 - accuracy: 0.4310\n",
      "Epoch 50: ReduceLROnPlateau reducing learning rate to 1.0240001069306004e-10.\n",
      "9/9 [==============================] - 3s 313ms/step - loss: 1.0874 - accuracy: 0.4310 - val_loss: 1.0914 - val_accuracy: 0.3594 - lr: 5.1200e-10\n"
     ]
    }
   ],
   "source": [
    "emotion_model_info = emotion_model.fit_generator(generator=train_generator,\n",
    "                                steps_per_epoch=train_generator.n//validation_generator.batch_size,\n",
    "                                epochs=50,\n",
    "                                validation_data = validation_generator,\n",
    "                                validation_steps = validation_generator.n//validation_generator.batch_size,\n",
    "                                callbacks=callbacks_list\n",
    "                                )"
   ]
  },
  {
   "cell_type": "code",
   "execution_count": 10,
   "metadata": {},
   "outputs": [],
   "source": [
    "import pandas as pd\n",
    "\n",
    "\n",
    "# convert the history.history dict to a pandas DataFrame:     \n",
    "hist_df = pd.DataFrame(emotion_model_info.history) \n",
    "\n",
    "# or save to csv: \n",
    "hist_csv_file = 'historyCNN_au.csv'\n",
    "with open(hist_csv_file, mode='w') as f:\n",
    "    hist_df.to_csv(f)"
   ]
  },
  {
   "cell_type": "code",
   "execution_count": 13,
   "metadata": {},
   "outputs": [],
   "source": [
    "def plot_curves(history):\n",
    "\n",
    "    loss = history.history[\"loss\"]\n",
    "    val_loss = history.history[\"val_loss\"]\n",
    "\n",
    "    accuracy = history.history[\"accuracy\"]\n",
    "    val_accuracy = history.history[\"val_accuracy\"]\n",
    "\n",
    "    epochs = range(len(history.history[\"loss\"]))\n",
    "\n",
    "    plt.figure(figsize=(15,5))\n",
    "\n",
    "    #plot loss\n",
    "    plt.plot(epochs, loss, label = \"training_loss\")\n",
    "    plt.plot(epochs, accuracy, label = \"training_accuracy\")\n",
    "    plt.plot(epochs, val_loss, label = \"val_loss\")\n",
    "    plt.title(\"Loss\")\n",
    "    plt.xlabel(\"epochs\")\n",
    "    plt.legend()\n",
    "\n"
   ]
  },
  {
   "cell_type": "code",
   "execution_count": 14,
   "metadata": {},
   "outputs": [
    {
     "data": {
      "image/png": "[encoded data removed]",
      "text/plain": [
       "<Figure size 1500x500 with 1 Axes>"
      ]
     },
     "metadata": {},
     "output_type": "display_data"
    }
   ],
   "source": [
    "plot_curves(emotion_model_info)"
   ]
  }
 ],
 "metadata": {
  "kernelspec": {
   "display_name": "base",
   "language": "python",
   "name": "python3"
  },
  "language_info": {
   "codemirror_mode": {
    "name": "ipython",
    "version": 3
   },
   "file_extension": ".py",
   "mimetype": "text/x-python",
   "name": "python",
   "nbconvert_exporter": "python",
   "pygments_lexer": "ipython3",
   "version": "3.9.13"
  },
  "orig_nbformat": 4,
  "vscode": {
   "interpreter": {
    "hash": "8c9fc08ce35a8569e796cefbbd915faecf7fa8e80b9d685c64bb874e6ddc4c74"
   }
  }
 },
 "nbformat": 4,
 "nbformat_minor": 2
}
