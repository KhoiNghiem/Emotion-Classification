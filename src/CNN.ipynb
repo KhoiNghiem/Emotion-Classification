{
 "cells": [
  {
   "cell_type": "code",
   "execution_count": 1,
   "metadata": {},
   "outputs": [
    {
     "name": "stderr",
     "output_type": "stream",
     "text": [
      "2023-02-16 18:36:02.940531: I tensorflow/core/platform/cpu_feature_guard.cc:193] This TensorFlow binary is optimized with oneAPI Deep Neural Network Library (oneDNN) to use the following CPU instructions in performance-critical operations:  AVX2 FMA\n",
      "To enable them in other operations, rebuild TensorFlow with the appropriate compiler flags.\n",
      "2023-02-16 18:36:04.944541: W tensorflow/compiler/xla/stream_executor/platform/default/dso_loader.cc:64] Could not load dynamic library 'libnvinfer.so.7'; dlerror: libnvinfer.so.7: cannot open shared object file: No such file or directory\n",
      "2023-02-16 18:36:04.944684: W tensorflow/compiler/xla/stream_executor/platform/default/dso_loader.cc:64] Could not load dynamic library 'libnvinfer_plugin.so.7'; dlerror: libnvinfer_plugin.so.7: cannot open shared object file: No such file or directory\n",
      "2023-02-16 18:36:04.944695: W tensorflow/compiler/tf2tensorrt/utils/py_utils.cc:38] TF-TRT Warning: Cannot dlopen some TensorRT libraries. If you would like to use Nvidia GPU with TensorRT, please make sure the missing libraries mentioned above are installed properly.\n"
     ]
    }
   ],
   "source": [
    "import pandas as pd\n",
    "import matplotlib.pyplot as plt\n",
    "import numpy as np\n",
    "import seaborn as sns\n",
    "import pathlib\n",
    "\n",
    "from collections import Counter\n",
    "from sklearn.preprocessing import StandardScaler\n",
    "\n",
    "import keras.backend as K\n",
    "import cv2\n",
    "import tensorflow as tf\n",
    "from tensorflow import keras\n",
    "from keras.models import Sequential\n",
    "from keras.layers import Conv2D, MaxPooling2D, Dense, Dropout, Flatten\n",
    "from tensorflow.keras.optimizers import Adam\n",
    "\n",
    "from tensorflow.keras.utils import load_img\n",
    "from tensorflow.keras.utils import img_to_array\n",
    "from keras.preprocessing.image import ImageDataGenerator\n",
    "from tensorflow.keras.callbacks import ReduceLROnPlateau,ModelCheckpoint,EarlyStopping\n",
    "\n"
   ]
  },
  {
   "cell_type": "code",
   "execution_count": 2,
   "metadata": {},
   "outputs": [
    {
     "name": "stdout",
     "output_type": "stream",
     "text": [
      "/home/khoi/Documents/Ai project/Emotion_Detection_CNN/data_base/archive/train\n",
      "/home/khoi/Documents/Ai project/Emotion_Detection_CNN/data_base/archive/test\n"
     ]
    }
   ],
   "source": [
    "train_data_dir = pathlib.Path(\"/home/khoi/Documents/Ai project/Emotion_Detection_CNN/data_base/archive/train\")\n",
    "print(train_data_dir)\n",
    "\n",
    "test_data_dir = pathlib.Path(\"/home/khoi/Documents/Ai project/Emotion_Detection_CNN/data_base/archive/test\")\n",
    "print(test_data_dir)\n",
    "\n",
    "# Image size\n",
    "\n",
    "IMAGE_SIZE = (48,48)\n",
    "IMAGE_SHAPE = IMAGE_SIZE + (3,)\n",
    "\n",
    "BS = 16\n",
    "EPOCHS = 100\n",
    "ADAM_LEARNING_RATE = 0.0001\n",
    "PATIENCE =10\n"
   ]
  },
  {
   "cell_type": "code",
   "execution_count": 3,
   "metadata": {},
   "outputs": [
    {
     "name": "stdout",
     "output_type": "stream",
     "text": [
      "Found 28709 images belonging to 7 classes.\n",
      "Found 7178 images belonging to 7 classes.\n"
     ]
    }
   ],
   "source": [
    "# Initialize image data generator with rescaling\n",
    "train_data_gen = ImageDataGenerator(rescale=1./255)\n",
    "validation_data_gen = ImageDataGenerator(rescale=1./255)\n",
    "\n",
    "# Preprocess all test images\n",
    "train_generator = train_data_gen.flow_from_directory(\n",
    "        '/home/khoi/Documents/Ai project/Emotion_Detection_CNN/data_base/archive/train',\n",
    "        target_size=(48, 48),\n",
    "        batch_size=64,\n",
    "        color_mode=\"grayscale\",\n",
    "        class_mode='categorical')\n",
    "\n",
    "# Preprocess all train images\n",
    "validation_generator = validation_data_gen.flow_from_directory(\n",
    "        '/home/khoi/Documents/Ai project/Emotion_Detection_CNN/data_base/archive/test',\n",
    "        target_size=(48, 48),\n",
    "        batch_size=64,\n",
    "        color_mode=\"grayscale\",\n",
    "        class_mode='categorical')\n",
    "\n"
   ]
  },
  {
   "cell_type": "code",
   "execution_count": 4,
   "metadata": {},
   "outputs": [
    {
     "name": "stdout",
     "output_type": "stream",
     "text": [
      "Model: \"sequential\"\n",
      "_________________________________________________________________\n",
      " Layer (type)                Output Shape              Param #   \n",
      "=================================================================\n",
      " conv2d (Conv2D)             (None, 46, 46, 32)        320       \n",
      "                                                                 \n",
      " conv2d_1 (Conv2D)           (None, 44, 44, 64)        18496     \n",
      "                                                                 \n",
      " max_pooling2d (MaxPooling2D  (None, 22, 22, 64)       0         \n",
      " )                                                               \n",
      "                                                                 \n",
      " dropout (Dropout)           (None, 22, 22, 64)        0         \n",
      "                                                                 \n",
      " conv2d_2 (Conv2D)           (None, 20, 20, 128)       73856     \n",
      "                                                                 \n",
      " max_pooling2d_1 (MaxPooling  (None, 10, 10, 128)      0         \n",
      " 2D)                                                             \n",
      "                                                                 \n",
      " conv2d_3 (Conv2D)           (None, 8, 8, 128)         147584    \n",
      "                                                                 \n",
      " max_pooling2d_2 (MaxPooling  (None, 4, 4, 128)        0         \n",
      " 2D)                                                             \n",
      "                                                                 \n",
      " dropout_1 (Dropout)         (None, 4, 4, 128)         0         \n",
      "                                                                 \n",
      " flatten (Flatten)           (None, 2048)              0         \n",
      "                                                                 \n",
      " dense (Dense)               (None, 1024)              2098176   \n",
      "                                                                 \n",
      " dropout_2 (Dropout)         (None, 1024)              0         \n",
      "                                                                 \n",
      " dense_1 (Dense)             (None, 7)                 7175      \n",
      "                                                                 \n",
      "=================================================================\n",
      "Total params: 2,345,607\n",
      "Trainable params: 2,345,607\n",
      "Non-trainable params: 0\n",
      "_________________________________________________________________\n"
     ]
    },
    {
     "name": "stderr",
     "output_type": "stream",
     "text": [
      "2023-02-16 18:36:08.724305: I tensorflow/compiler/xla/stream_executor/cuda/cuda_gpu_executor.cc:981] successful NUMA node read from SysFS had negative value (-1), but there must be at least one NUMA node, so returning NUMA node zero\n",
      "2023-02-16 18:36:08.836637: W tensorflow/compiler/xla/stream_executor/platform/default/dso_loader.cc:64] Could not load dynamic library 'libcudnn.so.8'; dlerror: libcudnn.so.8: cannot open shared object file: No such file or directory; LD_LIBRARY_PATH: /home/khoi/anaconda3/lib/python3.9/site-packages/cv2/../../lib64:\n",
      "2023-02-16 18:36:08.836664: W tensorflow/core/common_runtime/gpu/gpu_device.cc:1934] Cannot dlopen some GPU libraries. Please make sure the missing libraries mentioned above are installed properly if you would like to use GPU. Follow the guide at https://www.tensorflow.org/install/gpu for how to download and setup the required libraries for your platform.\n",
      "Skipping registering GPU devices...\n",
      "2023-02-16 18:36:08.837831: I tensorflow/core/platform/cpu_feature_guard.cc:193] This TensorFlow binary is optimized with oneAPI Deep Neural Network Library (oneDNN) to use the following CPU instructions in performance-critical operations:  AVX2 FMA\n",
      "To enable them in other operations, rebuild TensorFlow with the appropriate compiler flags.\n"
     ]
    }
   ],
   "source": [
    "# create model structure\n",
    "emotion_model = Sequential([\n",
    "    Conv2D(32, kernel_size=(3, 3), activation='relu', input_shape=(48, 48, 1)),\n",
    "    Conv2D(64, kernel_size=(3, 3), activation='relu'),\n",
    "    MaxPooling2D(pool_size=(2, 2)),\n",
    "    Dropout(0.25),\n",
    "\n",
    "    Conv2D(128, kernel_size=(3, 3), activation='relu'),\n",
    "    MaxPooling2D(pool_size=(2, 2)),\n",
    "    Conv2D(128, kernel_size=(3, 3), activation='relu'),\n",
    "    MaxPooling2D(pool_size=(2, 2)),\n",
    "    Dropout(0.25),\n",
    "\n",
    "    Flatten(),\n",
    "    Dense(1024, activation='relu'),\n",
    "    Dropout(0.5),\n",
    "    Dense(7, activation='softmax')\n",
    "])\n",
    "emotion_model.compile(optimizer='adam',\n",
    "              loss=\"categorical_crossentropy\",\n",
    "              metrics=['accuracy'])\n",
    "\n",
    "emotion_model.summary()"
   ]
  },
  {
   "cell_type": "code",
   "execution_count": 5,
   "metadata": {},
   "outputs": [
    {
     "name": "stderr",
     "output_type": "stream",
     "text": [
      "WARNING:absl:`lr` is deprecated, please use `learning_rate` instead, or use the legacy optimizer, e.g.,tf.keras.optimizers.legacy.Adam.\n"
     ]
    }
   ],
   "source": [
    "checkpoint = ModelCheckpoint(\"./modelCNN.h5\", monitor='val_acc', verbose=1, save_best_only=True, mode='max')\n",
    "\n",
    "early_stopping = EarlyStopping(monitor='val_loss',\n",
    "                          min_delta=0,\n",
    "                          patience=3,\n",
    "                          verbose=1,\n",
    "                          restore_best_weights=True\n",
    "                          )\n",
    "\n",
    "reduce_learningrate = ReduceLROnPlateau(monitor='val_loss',\n",
    "                              factor=0.2,\n",
    "                              patience=3,\n",
    "                              verbose=1,\n",
    "                              min_delta=0.0001)\n",
    "\n",
    "callbacks_list = [checkpoint,reduce_learningrate]\n",
    "\n",
    "epochs = 10\n",
    "\n",
    "emotion_model.compile(loss='categorical_crossentropy',\n",
    "              optimizer = Adam(lr=0.001),\n",
    "              metrics=['accuracy'])"
   ]
  },
  {
   "cell_type": "code",
   "execution_count": 6,
   "metadata": {},
   "outputs": [
    {
     "name": "stderr",
     "output_type": "stream",
     "text": [
      "/tmp/ipykernel_93729/4134867772.py:1: UserWarning: `Model.fit_generator` is deprecated and will be removed in a future version. Please use `Model.fit`, which supports generators.\n",
      "  emotion_model_info = emotion_model.fit_generator(generator=train_generator,\n"
     ]
    },
    {
     "name": "stdout",
     "output_type": "stream",
     "text": [
      "Epoch 1/30\n",
      "448/448 [==============================] - ETA: 0s - loss: 1.7328 - accuracy: 0.3003WARNING:tensorflow:Can save best model only with val_acc available, skipping.\n"
     ]
    },
    {
     "name": "stderr",
     "output_type": "stream",
     "text": [
      "WARNING:tensorflow:Can save best model only with val_acc available, skipping.\n"
     ]
    },
    {
     "name": "stdout",
     "output_type": "stream",
     "text": [
      "448/448 [==============================] - 290s 646ms/step - loss: 1.7328 - accuracy: 0.3003 - val_loss: 1.5325 - val_accuracy: 0.3943 - lr: 0.0010\n",
      "Epoch 2/30\n",
      "448/448 [==============================] - ETA: 0s - loss: 1.4587 - accuracy: 0.4336WARNING:tensorflow:Can save best model only with val_acc available, skipping.\n"
     ]
    },
    {
     "name": "stderr",
     "output_type": "stream",
     "text": [
      "WARNING:tensorflow:Can save best model only with val_acc available, skipping.\n"
     ]
    },
    {
     "name": "stdout",
     "output_type": "stream",
     "text": [
      "448/448 [==============================] - 296s 661ms/step - loss: 1.4587 - accuracy: 0.4336 - val_loss: 1.3265 - val_accuracy: 0.4884 - lr: 0.0010\n",
      "Epoch 3/30\n",
      "448/448 [==============================] - ETA: 0s - loss: 1.3041 - accuracy: 0.4999WARNING:tensorflow:Can save best model only with val_acc available, skipping.\n"
     ]
    },
    {
     "name": "stderr",
     "output_type": "stream",
     "text": [
      "WARNING:tensorflow:Can save best model only with val_acc available, skipping.\n"
     ]
    },
    {
     "name": "stdout",
     "output_type": "stream",
     "text": [
      "448/448 [==============================] - 220s 491ms/step - loss: 1.3041 - accuracy: 0.4999 - val_loss: 1.2403 - val_accuracy: 0.5248 - lr: 0.0010\n",
      "Epoch 4/30\n",
      "448/448 [==============================] - ETA: 0s - loss: 1.2163 - accuracy: 0.5367WARNING:tensorflow:Can save best model only with val_acc available, skipping.\n"
     ]
    },
    {
     "name": "stderr",
     "output_type": "stream",
     "text": [
      "WARNING:tensorflow:Can save best model only with val_acc available, skipping.\n"
     ]
    },
    {
     "name": "stdout",
     "output_type": "stream",
     "text": [
      "448/448 [==============================] - 189s 421ms/step - loss: 1.2163 - accuracy: 0.5367 - val_loss: 1.1768 - val_accuracy: 0.5508 - lr: 0.0010\n",
      "Epoch 5/30\n",
      "448/448 [==============================] - ETA: 0s - loss: 1.1633 - accuracy: 0.5553WARNING:tensorflow:Can save best model only with val_acc available, skipping.\n"
     ]
    },
    {
     "name": "stderr",
     "output_type": "stream",
     "text": [
      "WARNING:tensorflow:Can save best model only with val_acc available, skipping.\n"
     ]
    },
    {
     "name": "stdout",
     "output_type": "stream",
     "text": [
      "448/448 [==============================] - 137s 307ms/step - loss: 1.1633 - accuracy: 0.5553 - val_loss: 1.1497 - val_accuracy: 0.5670 - lr: 0.0010\n",
      "Epoch 6/30\n",
      "448/448 [==============================] - ETA: 0s - loss: 1.1120 - accuracy: 0.5793WARNING:tensorflow:Can save best model only with val_acc available, skipping.\n"
     ]
    },
    {
     "name": "stderr",
     "output_type": "stream",
     "text": [
      "WARNING:tensorflow:Can save best model only with val_acc available, skipping.\n"
     ]
    },
    {
     "name": "stdout",
     "output_type": "stream",
     "text": [
      "448/448 [==============================] - 138s 309ms/step - loss: 1.1120 - accuracy: 0.5793 - val_loss: 1.1107 - val_accuracy: 0.5794 - lr: 0.0010\n",
      "Epoch 7/30\n",
      "448/448 [==============================] - ETA: 0s - loss: 1.0673 - accuracy: 0.5974WARNING:tensorflow:Can save best model only with val_acc available, skipping.\n"
     ]
    },
    {
     "name": "stderr",
     "output_type": "stream",
     "text": [
      "WARNING:tensorflow:Can save best model only with val_acc available, skipping.\n"
     ]
    },
    {
     "name": "stdout",
     "output_type": "stream",
     "text": [
      "448/448 [==============================] - 138s 308ms/step - loss: 1.0673 - accuracy: 0.5974 - val_loss: 1.1102 - val_accuracy: 0.5771 - lr: 0.0010\n",
      "Epoch 8/30\n",
      "448/448 [==============================] - ETA: 0s - loss: 1.0294 - accuracy: 0.6092WARNING:tensorflow:Can save best model only with val_acc available, skipping.\n"
     ]
    },
    {
     "name": "stderr",
     "output_type": "stream",
     "text": [
      "WARNING:tensorflow:Can save best model only with val_acc available, skipping.\n"
     ]
    },
    {
     "name": "stdout",
     "output_type": "stream",
     "text": [
      "448/448 [==============================] - 137s 306ms/step - loss: 1.0294 - accuracy: 0.6092 - val_loss: 1.0960 - val_accuracy: 0.5861 - lr: 0.0010\n",
      "Epoch 9/30\n",
      "448/448 [==============================] - ETA: 0s - loss: 0.9880 - accuracy: 0.6286WARNING:tensorflow:Can save best model only with val_acc available, skipping.\n"
     ]
    },
    {
     "name": "stderr",
     "output_type": "stream",
     "text": [
      "WARNING:tensorflow:Can save best model only with val_acc available, skipping.\n"
     ]
    },
    {
     "name": "stdout",
     "output_type": "stream",
     "text": [
      "448/448 [==============================] - 137s 305ms/step - loss: 0.9880 - accuracy: 0.6286 - val_loss: 1.0852 - val_accuracy: 0.5914 - lr: 0.0010\n",
      "Epoch 10/30\n",
      "448/448 [==============================] - ETA: 0s - loss: 0.9539 - accuracy: 0.6415WARNING:tensorflow:Can save best model only with val_acc available, skipping.\n"
     ]
    },
    {
     "name": "stderr",
     "output_type": "stream",
     "text": [
      "WARNING:tensorflow:Can save best model only with val_acc available, skipping.\n"
     ]
    },
    {
     "name": "stdout",
     "output_type": "stream",
     "text": [
      "448/448 [==============================] - 138s 308ms/step - loss: 0.9539 - accuracy: 0.6415 - val_loss: 1.0717 - val_accuracy: 0.5995 - lr: 0.0010\n",
      "Epoch 11/30\n",
      "448/448 [==============================] - ETA: 0s - loss: 0.9162 - accuracy: 0.6533WARNING:tensorflow:Can save best model only with val_acc available, skipping.\n"
     ]
    },
    {
     "name": "stderr",
     "output_type": "stream",
     "text": [
      "WARNING:tensorflow:Can save best model only with val_acc available, skipping.\n"
     ]
    },
    {
     "name": "stdout",
     "output_type": "stream",
     "text": [
      "448/448 [==============================] - 137s 305ms/step - loss: 0.9162 - accuracy: 0.6533 - val_loss: 1.0659 - val_accuracy: 0.5940 - lr: 0.0010\n",
      "Epoch 12/30\n",
      "448/448 [==============================] - ETA: 0s - loss: 0.8874 - accuracy: 0.6671WARNING:tensorflow:Can save best model only with val_acc available, skipping.\n"
     ]
    },
    {
     "name": "stderr",
     "output_type": "stream",
     "text": [
      "WARNING:tensorflow:Can save best model only with val_acc available, skipping.\n"
     ]
    },
    {
     "name": "stdout",
     "output_type": "stream",
     "text": [
      "448/448 [==============================] - 136s 304ms/step - loss: 0.8874 - accuracy: 0.6671 - val_loss: 1.0702 - val_accuracy: 0.6102 - lr: 0.0010\n",
      "Epoch 13/30\n",
      "448/448 [==============================] - ETA: 0s - loss: 0.8460 - accuracy: 0.6822WARNING:tensorflow:Can save best model only with val_acc available, skipping.\n"
     ]
    },
    {
     "name": "stderr",
     "output_type": "stream",
     "text": [
      "WARNING:tensorflow:Can save best model only with val_acc available, skipping.\n"
     ]
    },
    {
     "name": "stdout",
     "output_type": "stream",
     "text": [
      "448/448 [==============================] - 136s 304ms/step - loss: 0.8460 - accuracy: 0.6822 - val_loss: 1.0592 - val_accuracy: 0.6112 - lr: 0.0010\n",
      "Epoch 14/30\n",
      "448/448 [==============================] - ETA: 0s - loss: 0.8129 - accuracy: 0.6985WARNING:tensorflow:Can save best model only with val_acc available, skipping.\n"
     ]
    },
    {
     "name": "stderr",
     "output_type": "stream",
     "text": [
      "WARNING:tensorflow:Can save best model only with val_acc available, skipping.\n"
     ]
    },
    {
     "name": "stdout",
     "output_type": "stream",
     "text": [
      "448/448 [==============================] - 132s 294ms/step - loss: 0.8129 - accuracy: 0.6985 - val_loss: 1.0679 - val_accuracy: 0.6184 - lr: 0.0010\n",
      "Epoch 15/30\n",
      "448/448 [==============================] - ETA: 0s - loss: 0.7846 - accuracy: 0.7070WARNING:tensorflow:Can save best model only with val_acc available, skipping.\n"
     ]
    },
    {
     "name": "stderr",
     "output_type": "stream",
     "text": [
      "WARNING:tensorflow:Can save best model only with val_acc available, skipping.\n"
     ]
    },
    {
     "name": "stdout",
     "output_type": "stream",
     "text": [
      "448/448 [==============================] - 122s 271ms/step - loss: 0.7846 - accuracy: 0.7070 - val_loss: 1.0609 - val_accuracy: 0.6184 - lr: 0.0010\n",
      "Epoch 16/30\n",
      "448/448 [==============================] - ETA: 0s - loss: 0.7614 - accuracy: 0.7164WARNING:tensorflow:Can save best model only with val_acc available, skipping.\n"
     ]
    },
    {
     "name": "stderr",
     "output_type": "stream",
     "text": [
      "WARNING:tensorflow:Can save best model only with val_acc available, skipping.\n"
     ]
    },
    {
     "name": "stdout",
     "output_type": "stream",
     "text": [
      "\n",
      "Epoch 16: ReduceLROnPlateau reducing learning rate to 0.00020000000949949026.\n",
      "448/448 [==============================] - 121s 270ms/step - loss: 0.7614 - accuracy: 0.7164 - val_loss: 1.0717 - val_accuracy: 0.6176 - lr: 0.0010\n",
      "Epoch 17/30\n",
      "448/448 [==============================] - ETA: 0s - loss: 0.6511 - accuracy: 0.7573WARNING:tensorflow:Can save best model only with val_acc available, skipping.\n"
     ]
    },
    {
     "name": "stderr",
     "output_type": "stream",
     "text": [
      "WARNING:tensorflow:Can save best model only with val_acc available, skipping.\n"
     ]
    },
    {
     "name": "stdout",
     "output_type": "stream",
     "text": [
      "448/448 [==============================] - 121s 269ms/step - loss: 0.6511 - accuracy: 0.7573 - val_loss: 1.0658 - val_accuracy: 0.6242 - lr: 2.0000e-04\n",
      "Epoch 18/30\n",
      "448/448 [==============================] - ETA: 0s - loss: 0.6194 - accuracy: 0.7715WARNING:tensorflow:Can save best model only with val_acc available, skipping.\n"
     ]
    },
    {
     "name": "stderr",
     "output_type": "stream",
     "text": [
      "WARNING:tensorflow:Can save best model only with val_acc available, skipping.\n"
     ]
    },
    {
     "name": "stdout",
     "output_type": "stream",
     "text": [
      "448/448 [==============================] - 121s 271ms/step - loss: 0.6194 - accuracy: 0.7715 - val_loss: 1.0729 - val_accuracy: 0.6303 - lr: 2.0000e-04\n",
      "Epoch 19/30\n",
      "448/448 [==============================] - ETA: 0s - loss: 0.5989 - accuracy: 0.7823WARNING:tensorflow:Can save best model only with val_acc available, skipping.\n"
     ]
    },
    {
     "name": "stderr",
     "output_type": "stream",
     "text": [
      "WARNING:tensorflow:Can save best model only with val_acc available, skipping.\n"
     ]
    },
    {
     "name": "stdout",
     "output_type": "stream",
     "text": [
      "\n",
      "Epoch 19: ReduceLROnPlateau reducing learning rate to 4.0000001899898055e-05.\n",
      "448/448 [==============================] - 122s 271ms/step - loss: 0.5989 - accuracy: 0.7823 - val_loss: 1.0680 - val_accuracy: 0.6338 - lr: 2.0000e-04\n",
      "Epoch 20/30\n",
      "448/448 [==============================] - ETA: 0s - loss: 0.5738 - accuracy: 0.7882WARNING:tensorflow:Can save best model only with val_acc available, skipping.\n"
     ]
    },
    {
     "name": "stderr",
     "output_type": "stream",
     "text": [
      "WARNING:tensorflow:Can save best model only with val_acc available, skipping.\n"
     ]
    },
    {
     "name": "stdout",
     "output_type": "stream",
     "text": [
      "448/448 [==============================] - 121s 270ms/step - loss: 0.5738 - accuracy: 0.7882 - val_loss: 1.0786 - val_accuracy: 0.6321 - lr: 4.0000e-05\n",
      "Epoch 21/30\n",
      "448/448 [==============================] - ETA: 0s - loss: 0.5625 - accuracy: 0.7918WARNING:tensorflow:Can save best model only with val_acc available, skipping.\n"
     ]
    },
    {
     "name": "stderr",
     "output_type": "stream",
     "text": [
      "WARNING:tensorflow:Can save best model only with val_acc available, skipping.\n"
     ]
    },
    {
     "name": "stdout",
     "output_type": "stream",
     "text": [
      "448/448 [==============================] - 120s 269ms/step - loss: 0.5625 - accuracy: 0.7918 - val_loss: 1.0818 - val_accuracy: 0.6327 - lr: 4.0000e-05\n",
      "Epoch 22/30\n",
      "448/448 [==============================] - ETA: 0s - loss: 0.5623 - accuracy: 0.7919WARNING:tensorflow:Can save best model only with val_acc available, skipping.\n"
     ]
    },
    {
     "name": "stderr",
     "output_type": "stream",
     "text": [
      "WARNING:tensorflow:Can save best model only with val_acc available, skipping.\n"
     ]
    },
    {
     "name": "stdout",
     "output_type": "stream",
     "text": [
      "\n",
      "Epoch 22: ReduceLROnPlateau reducing learning rate to 8.000000525498762e-06.\n",
      "448/448 [==============================] - 121s 269ms/step - loss: 0.5623 - accuracy: 0.7919 - val_loss: 1.0879 - val_accuracy: 0.6297 - lr: 4.0000e-05\n",
      "Epoch 23/30\n",
      "448/448 [==============================] - ETA: 0s - loss: 0.5568 - accuracy: 0.7941WARNING:tensorflow:Can save best model only with val_acc available, skipping.\n"
     ]
    },
    {
     "name": "stderr",
     "output_type": "stream",
     "text": [
      "WARNING:tensorflow:Can save best model only with val_acc available, skipping.\n"
     ]
    },
    {
     "name": "stdout",
     "output_type": "stream",
     "text": [
      "448/448 [==============================] - 120s 268ms/step - loss: 0.5568 - accuracy: 0.7941 - val_loss: 1.0859 - val_accuracy: 0.6311 - lr: 8.0000e-06\n",
      "Epoch 24/30\n",
      "448/448 [==============================] - ETA: 0s - loss: 0.5575 - accuracy: 0.7937WARNING:tensorflow:Can save best model only with val_acc available, skipping.\n"
     ]
    },
    {
     "name": "stderr",
     "output_type": "stream",
     "text": [
      "WARNING:tensorflow:Can save best model only with val_acc available, skipping.\n"
     ]
    },
    {
     "name": "stdout",
     "output_type": "stream",
     "text": [
      "448/448 [==============================] - 121s 270ms/step - loss: 0.5575 - accuracy: 0.7937 - val_loss: 1.0863 - val_accuracy: 0.6316 - lr: 8.0000e-06\n",
      "Epoch 25/30\n",
      "448/448 [==============================] - ETA: 0s - loss: 0.5518 - accuracy: 0.7969WARNING:tensorflow:Can save best model only with val_acc available, skipping.\n"
     ]
    },
    {
     "name": "stderr",
     "output_type": "stream",
     "text": [
      "WARNING:tensorflow:Can save best model only with val_acc available, skipping.\n"
     ]
    },
    {
     "name": "stdout",
     "output_type": "stream",
     "text": [
      "\n",
      "Epoch 25: ReduceLROnPlateau reducing learning rate to 1.6000001778593287e-06.\n",
      "448/448 [==============================] - 120s 268ms/step - loss: 0.5518 - accuracy: 0.7969 - val_loss: 1.0876 - val_accuracy: 0.6328 - lr: 8.0000e-06\n",
      "Epoch 26/30\n",
      "448/448 [==============================] - ETA: 0s - loss: 0.5555 - accuracy: 0.7946WARNING:tensorflow:Can save best model only with val_acc available, skipping.\n"
     ]
    },
    {
     "name": "stderr",
     "output_type": "stream",
     "text": [
      "WARNING:tensorflow:Can save best model only with val_acc available, skipping.\n"
     ]
    },
    {
     "name": "stdout",
     "output_type": "stream",
     "text": [
      "448/448 [==============================] - 121s 271ms/step - loss: 0.5555 - accuracy: 0.7946 - val_loss: 1.0877 - val_accuracy: 0.6325 - lr: 1.6000e-06\n",
      "Epoch 27/30\n",
      "448/448 [==============================] - ETA: 0s - loss: 0.5545 - accuracy: 0.7971WARNING:tensorflow:Can save best model only with val_acc available, skipping.\n"
     ]
    },
    {
     "name": "stderr",
     "output_type": "stream",
     "text": [
      "WARNING:tensorflow:Can save best model only with val_acc available, skipping.\n"
     ]
    },
    {
     "name": "stdout",
     "output_type": "stream",
     "text": [
      "448/448 [==============================] - 157s 350ms/step - loss: 0.5545 - accuracy: 0.7971 - val_loss: 1.0884 - val_accuracy: 0.6316 - lr: 1.6000e-06\n",
      "Epoch 28/30\n",
      "448/448 [==============================] - ETA: 0s - loss: 0.5522 - accuracy: 0.7973WARNING:tensorflow:Can save best model only with val_acc available, skipping.\n"
     ]
    },
    {
     "name": "stderr",
     "output_type": "stream",
     "text": [
      "WARNING:tensorflow:Can save best model only with val_acc available, skipping.\n"
     ]
    },
    {
     "name": "stdout",
     "output_type": "stream",
     "text": [
      "\n",
      "Epoch 28: ReduceLROnPlateau reducing learning rate to 3.200000264769187e-07.\n",
      "448/448 [==============================] - 161s 359ms/step - loss: 0.5522 - accuracy: 0.7973 - val_loss: 1.0883 - val_accuracy: 0.6311 - lr: 1.6000e-06\n",
      "Epoch 29/30\n",
      "448/448 [==============================] - ETA: 0s - loss: 0.5594 - accuracy: 0.7942WARNING:tensorflow:Can save best model only with val_acc available, skipping.\n"
     ]
    },
    {
     "name": "stderr",
     "output_type": "stream",
     "text": [
      "WARNING:tensorflow:Can save best model only with val_acc available, skipping.\n"
     ]
    },
    {
     "name": "stdout",
     "output_type": "stream",
     "text": [
      "448/448 [==============================] - 164s 366ms/step - loss: 0.5594 - accuracy: 0.7942 - val_loss: 1.0881 - val_accuracy: 0.6316 - lr: 3.2000e-07\n",
      "Epoch 30/30\n",
      "448/448 [==============================] - ETA: 0s - loss: 0.5558 - accuracy: 0.7937WARNING:tensorflow:Can save best model only with val_acc available, skipping.\n"
     ]
    },
    {
     "name": "stderr",
     "output_type": "stream",
     "text": [
      "WARNING:tensorflow:Can save best model only with val_acc available, skipping.\n"
     ]
    },
    {
     "name": "stdout",
     "output_type": "stream",
     "text": [
      "448/448 [==============================] - 249s 557ms/step - loss: 0.5558 - accuracy: 0.7937 - val_loss: 1.0882 - val_accuracy: 0.6314 - lr: 3.2000e-07\n"
     ]
    }
   ],
   "source": [
    "emotion_model_info = emotion_model.fit_generator(generator=train_generator,\n",
    "                                steps_per_epoch=train_generator.n//validation_generator.batch_size,\n",
    "                                epochs=30,\n",
    "                                validation_data = validation_generator,\n",
    "                                validation_steps = validation_generator.n//validation_generator.batch_size,\n",
    "                                callbacks=callbacks_list\n",
    "                                )"
   ]
  },
  {
   "cell_type": "code",
   "execution_count": 14,
   "metadata": {},
   "outputs": [],
   "source": [
    "import pandas as pd\n",
    "\n",
    "\n",
    "# convert the history.history dict to a pandas DataFrame:     \n",
    "hist_df = pd.DataFrame(emotion_model_info.history) \n",
    "\n",
    "# or save to csv: \n",
    "hist_csv_file = 'historyCNN_au.csv'\n",
    "with open(hist_csv_file, mode='w') as f:\n",
    "    hist_df.to_csv(f)"
   ]
  },
  {
   "cell_type": "code",
   "execution_count": 15,
   "metadata": {},
   "outputs": [],
   "source": [
    "emotion_model.save('modelCNN_augu.h5')  # creates a HDF5 file 'my_model.h5'"
   ]
  },
  {
   "cell_type": "code",
   "execution_count": 16,
   "metadata": {},
   "outputs": [
    {
     "name": "stdout",
     "output_type": "stream",
     "text": [
      "113/113 [==============================] - 6s 51ms/step - loss: 1.0884 - accuracy: 0.6314\n",
      "Val Loss: 1.08835\n",
      "Val Accuracy: 63.14%\n"
     ]
    }
   ],
   "source": [
    "CNNBase_Score = emotion_model.evaluate(validation_generator)\n",
    "\n",
    "print(\"Val Loss: {:.5f}\".format(CNNBase_Score[0]))\n",
    "print(\"Val Accuracy: {:.2f}%\".format(CNNBase_Score[1] * 100))"
   ]
  },
  {
   "cell_type": "code",
   "execution_count": 17,
   "metadata": {},
   "outputs": [],
   "source": [
    "def plot_curves(history):\n",
    "\n",
    "    loss = history.history[\"loss\"]\n",
    "    val_loss = history.history[\"val_loss\"]\n",
    "\n",
    "    accuracy = history.history[\"accuracy\"]\n",
    "    val_accuracy = history.history[\"val_accuracy\"]\n",
    "\n",
    "    epochs = range(len(history.history[\"loss\"]))\n",
    "\n",
    "    plt.figure(figsize=(15,5))\n",
    "\n",
    "    #plot loss\n",
    "    plt.subplot(1, 2, 1)\n",
    "    plt.plot(epochs, loss, label = \"training_loss\")\n",
    "    plt.plot(epochs, val_loss, label = \"val_loss\")\n",
    "    plt.title(\"Loss\")\n",
    "    plt.xlabel(\"epochs\")\n",
    "    plt.legend()\n",
    "\n",
    "    #plot accuracy\n",
    "    plt.subplot(1, 2, 2)\n",
    "    plt.plot(epochs, accuracy, label = \"training_accuracy\")\n",
    "    plt.plot(epochs, val_accuracy, label = \"val_accuracy\")\n",
    "    plt.title(\"Accuracy\")\n",
    "    plt.xlabel(\"epochs\")\n",
    "    plt.legend()\n",
    "    "
   ]
  },
  {
   "cell_type": "code",
   "execution_count": 18,
   "metadata": {},
   "outputs": [
    {
     "data": {
      "image/png": "[encoded data removed]",
      "text/plain": [
       "<Figure size 1500x500 with 2 Axes>"
      ]
     },
     "metadata": {},
     "output_type": "display_data"
    }
   ],
   "source": [
    "plot_curves(emotion_model_info)"
   ]
  },
  {
   "cell_type": "code",
   "execution_count": 12,
   "metadata": {},
   "outputs": [
    {
     "name": "stdout",
     "output_type": "stream",
     "text": [
      "113/113 [==============================] - 10s 89ms/step\n"
     ]
    }
   ],
   "source": [
    "CNNBase_Predict = emotion_model.predict(validation_generator)\n",
    "\n",
    "# Choosing highest probalbilty class in every prediction \n",
    "CNNBase_Predict = np.argmax(CNNBase_Predict, axis=1)\n",
    "\n"
   ]
  },
  {
   "cell_type": "code",
   "execution_count": 13,
   "metadata": {},
   "outputs": [
    {
     "data": {
      "text/plain": [
       "<Figure size 640x480 with 0 Axes>"
      ]
     },
     "metadata": {},
     "output_type": "display_data"
    },
    {
     "data": {
      "image/png": "[encoded data removed]",
      "text/plain": [
       "<Figure size 1000x1000 with 2 Axes>"
      ]
     },
     "metadata": {},
     "output_type": "display_data"
    }
   ],
   "source": [
    "from sklearn.metrics import confusion_matrix\n",
    "import itertools\n",
    "\n",
    "def plot_confusion_matrix(cm, classes, title='Confusion matrix', cmap=plt.cm.Blues):\n",
    "    cm = cm.astype('float') / cm.sum(axis=1)[:, np.newaxis]\n",
    "    plt.figure(figsize=(10,10))\n",
    "    plt.imshow(cm, interpolation='nearest', cmap=cmap)\n",
    "    plt.title(title)\n",
    "    plt.colorbar()\n",
    "    tick_marks = np.arange(len(classes))\n",
    "    plt.xticks(tick_marks, classes, rotation=45)\n",
    "    plt.yticks(tick_marks, classes)\n",
    "\n",
    "    fmt = '.2f'\n",
    "    thresh = cm.max() / 2.\n",
    "    for i, j in itertools.product(range(cm.shape[0]), range(cm.shape[1])):\n",
    "        plt.text(j, i, format(cm[i, j], fmt),\n",
    "                 horizontalalignment=\"center\",\n",
    "                 color=\"white\" if cm[i, j] > thresh else \"black\")\n",
    "\n",
    "    plt.ylabel('True label')\n",
    "    plt.xlabel('Predicted label')\n",
    "    plt.tight_layout()\n",
    "    \n",
    "cnf_matrix = confusion_matrix(validation_generator.labels, CNNBase_Predict)\n",
    "np.set_printoptions(precision=2)\n",
    "\n",
    "plt.figure()\n",
    "plot_confusion_matrix(cnf_matrix, classes=validation_generator.class_indices.keys(), title='Normalized confusion matrix')\n",
    "plt.show()\n",
    "\n"
   ]
  }
 ],
 "metadata": {
  "kernelspec": {
   "display_name": "base",
   "language": "python",
   "name": "python3"
  },
  "language_info": {
   "codemirror_mode": {
    "name": "ipython",
    "version": 3
   },
   "file_extension": ".py",
   "mimetype": "text/x-python",
   "name": "python",
   "nbconvert_exporter": "python",
   "pygments_lexer": "ipython3",
   "version": "3.9.13"
  },
  "orig_nbformat": 4,
  "vscode": {
   "interpreter": {
    "hash": "8c9fc08ce35a8569e796cefbbd915faecf7fa8e80b9d685c64bb874e6ddc4c74"
   }
  }
 },
 "nbformat": 4,
 "nbformat_minor": 2
}
