{
 "cells": [
  {
   "cell_type": "code",
   "execution_count": 1,
   "metadata": {},
   "outputs": [],
   "source": [
    "import imgaug.augmenters as iaa\n",
    "import cv2\n",
    "from PIL import Image\n",
    "import glob\n",
    "import os"
   ]
  },
  {
   "cell_type": "code",
   "execution_count": 2,
   "metadata": {},
   "outputs": [],
   "source": [
    "path = \"/home/khoi/Documents/Ai project/Emotion_Detection_CNN/data/archive/train/disgust/\""
   ]
  },
  {
   "cell_type": "code",
   "execution_count": 4,
   "metadata": {},
   "outputs": [],
   "source": [
    "images_path = glob.glob(\"/home/khoi/Documents/Ai project/Emotion_Detection_CNN/data/archive/test/angry/\")\n"
   ]
  },
  {
   "cell_type": "code",
   "execution_count": 3,
   "metadata": {},
   "outputs": [
    {
     "data": {
      "text/plain": [
       "array([[[214, 214, 214],\n",
       "        [214, 214, 214],\n",
       "        [214, 214, 214],\n",
       "        ...,\n",
       "        [219, 219, 219],\n",
       "        [219, 219, 219],\n",
       "        [219, 219, 219]],\n",
       "\n",
       "       [[214, 214, 214],\n",
       "        [214, 214, 214],\n",
       "        [214, 214, 214],\n",
       "        ...,\n",
       "        [219, 219, 219],\n",
       "        [219, 219, 219],\n",
       "        [219, 219, 219]],\n",
       "\n",
       "       [[214, 214, 214],\n",
       "        [214, 214, 214],\n",
       "        [214, 214, 214],\n",
       "        ...,\n",
       "        [219, 219, 219],\n",
       "        [219, 219, 219],\n",
       "        [219, 219, 219]],\n",
       "\n",
       "       ...,\n",
       "\n",
       "       [[227, 227, 227],\n",
       "        [227, 227, 227],\n",
       "        [227, 227, 227],\n",
       "        ...,\n",
       "        [118, 118, 118],\n",
       "        [118, 118, 118],\n",
       "        [118, 118, 118]],\n",
       "\n",
       "       [[227, 227, 227],\n",
       "        [227, 227, 227],\n",
       "        [227, 227, 227],\n",
       "        ...,\n",
       "        [118, 118, 118],\n",
       "        [118, 118, 118],\n",
       "        [117, 117, 117]],\n",
       "\n",
       "       [[227, 227, 227],\n",
       "        [227, 227, 227],\n",
       "        [227, 227, 227],\n",
       "        ...,\n",
       "        [118, 118, 118],\n",
       "        [118, 118, 118],\n",
       "        [118, 118, 118]]], dtype=uint8)"
      ]
     },
     "execution_count": 3,
     "metadata": {},
     "output_type": "execute_result"
    }
   ],
   "source": [
    "cv2.imread(\"/home/khoi/Documents/Ai project/Emotion_Detection_CNN/data_au/archive/test/angry/PrivateTest_88305.jpg\")"
   ]
  },
  {
   "cell_type": "code",
   "execution_count": 5,
   "metadata": {},
   "outputs": [],
   "source": [
    "# 1. Load Dataset\n",
    "images = []\n",
    "images_path = glob.glob(\"/home/khoi/Documents/Ai project/Emotion_Detection_CNN/data/archive/test/angry/*.jpg\")\n",
    "for img_path in images_path:\n",
    "    img = cv2.imread(img_path)\n",
    "    images.append(img)"
   ]
  },
  {
   "cell_type": "code",
   "execution_count": 18,
   "metadata": {},
   "outputs": [],
   "source": [
    "# 2. Image Augmentation\n",
    "augmentation = iaa.Sequential([\n",
    "    # 1. Flip\n",
    "    # iaa.Fliplr(0.5)\n",
    "    # iaa.Flipud(0.5)\n",
    "    # iaa.CropAndPad(percent=(-0.25, 0.25))\n",
    "    # iaa.Add((-40, 40))\n",
    "    # # 2. Affine\n",
    "    # iaa.Affine(translate_percent={\"x\": (-0.2, 0.2), \"y\": (-0.2, 0.2)},\n",
    "    #            rotate=(-30, 30),\n",
    "    #            scale=(0.5, 1.5)),\n",
    "    # # 3. Multiply\n",
    "    # iaa.Multiply((0.8, 1.2)),\n",
    "    # # 4. Linearcontrast\n",
    "    # iaa.LinearContrast((0.6, 1.4)),\n",
    "    # # Perform methods below only sometimes\n",
    "    # iaa.Sometimes(0.5,\n",
    "    #     # 5. GaussianBlur\n",
    "    #     iaa.GaussianBlur((0.0, 3.0))\n",
    "    #     )\n",
    "])"
   ]
  },
  {
   "cell_type": "code",
   "execution_count": 19,
   "metadata": {},
   "outputs": [],
   "source": [
    "# 3. Show Images\n",
    "im_path = os.listdir(\"/home/khoi/Documents/Ai project/Emotion_Detection_CNN/data/archive/train/disgust\")\n",
    "augmented_images = augmentation(images=images)\n",
    "for img, i in zip(augmented_images, im_path):\n",
    "    cv2.imwrite('Flipud' + i, img)"
   ]
  }
 ],
 "metadata": {
  "kernelspec": {
   "display_name": "base",
   "language": "python",
   "name": "python3"
  },
  "language_info": {
   "codemirror_mode": {
    "name": "ipython",
    "version": 3
   },
   "file_extension": ".py",
   "mimetype": "text/x-python",
   "name": "python",
   "nbconvert_exporter": "python",
   "pygments_lexer": "ipython3",
   "version": "3.9.13"
  },
  "orig_nbformat": 4,
  "vscode": {
   "interpreter": {
    "hash": "8c9fc08ce35a8569e796cefbbd915faecf7fa8e80b9d685c64bb874e6ddc4c74"
   }
  }
 },
 "nbformat": 4,
 "nbformat_minor": 2
}
